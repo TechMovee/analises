{
 "cells": [
  {
   "cell_type": "markdown",
   "metadata": {},
   "source": [
    "<h2><center>Expansão dos Dados</center></h2>"
   ]
  },
  {
   "cell_type": "markdown",
   "metadata": {},
   "source": [
    "<h5>Grupo: TechMovee</h5>\n",
    "<h5>Objetivo: Implementar uma estratégia de expansão de dados para aumentar o volume de informações disponíveis para o treinamento de modelos preditivos, superando a limitação inicial de apenas 33 registros coletados. A expansão será realizada de forma a manter a coesão dos dados reais, permitindo que os padrões sejam reconhecidos eficazmente pelos algoritmos, melhorando assim a precisão e a confiabilidade dos modelos desenvolvidos.</h5>\n",
    "<h5>Autor: Melissa Martins de Araujo - 2°G - n°14</h5>"
   ]
  },
  {
   "cell_type": "markdown",
   "metadata": {},
   "source": [
    "<h4>Importações</h4>"
   ]
  },
  {
   "cell_type": "code",
   "execution_count": 2,
   "metadata": {},
   "outputs": [],
   "source": [
    "import numpy as np\n",
    "import pandas as pd"
   ]
  },
  {
   "cell_type": "markdown",
   "metadata": {},
   "source": [
    "<h4>Função para expansão dos dados</h4>"
   ]
  },
  {
   "cell_type": "code",
   "execution_count": 3,
   "metadata": {},
   "outputs": [],
   "source": [
    "num_samples = 150  # Definindo o número de amostras que serão geradas para cada resposta.\n",
    "\n",
    "# Criando uma função para gerar dados sintéticos\n",
    "def generando_dados_sinteticos(n_samples, response):\n",
    "    # Definindo um dicionário com perguntas e respostas simuladas para gerar dados de pesquisa\n",
    "    dados_sinteticos = {\n",
    "        'Qual é a idade do(s) seu(s) filho(s)?': np.random.choice(\n",
    "            ['6 - 10 anos', '11 - 14 anos', '15 - 18 anos'], n_samples, p=[0.25, 0.25, 0.5]),\n",
    "        \n",
    "        'Qual é a distância entre sua casa e a escola?': np.random.choice(\n",
    "            ['Menos de 1 km', '1 - 4 km', '5 - 9 km', 'Mais de 10 km'], n_samples, p=[0.25, 0.25, 0.25, 0.25]),\n",
    "        \n",
    "        'Quanto tempo você leva, em média, para levar seu(s) filho(s) à escola?': np.random.choice(\n",
    "            ['Menos de 10 minutos', '10 - 20 minutos', '21 - 30 minutos', 'Mais de 30 minutos'], n_samples, p=[0.15, 0.25, 0.25, 0.35]),\n",
    "        \n",
    "        'Você possui carro próprio?': np.random.choice(['Sim', 'Não'], n_samples, p=[0.65, 0.35]),\n",
    "        \n",
    "        'Já fez uso do serviço de um transporte escolar para o(s) seu(s) filho(s)?': np.random.choice(\n",
    "            ['Já e ainda uso', 'Já, mas não uso mais', 'Nunca usei'], n_samples, p=[0.45, 0.25, 0.30]),\n",
    "        \n",
    "        'Você já teve problemas com transporte escolar?': np.random.choice(['Sim', 'Não'], n_samples, p=[0.25, 0.75]),\n",
    "        \n",
    "        'Você estaria disposto a mudar o transporte do seu(s) filho(s) para uma van escolar que oferecesse mais segurança e eficiência?': np.random.choice(['Sim', 'Não'], n_samples, p=[0.70, 0.30]),\n",
    "        \n",
    "        'Você tem ou já teve dificuldade para encontrar transporte escolar para o seu(s) filho(s)?': np.random.choice(['Sim', 'Não'], n_samples, p=[0.60, 0.40]),\n",
    "        \n",
    "        'Você já teve problemas com horário e comunicação com o transportador?': np.random.choice(\n",
    "            ['Sim', 'Não', 'As vezes'], n_samples, p=[0.20, 0.55, 0.25]),\n",
    "        \n",
    "        'Você preferiria um serviço de transporte escolar que avise automaticamente sobre atrasos e mudanças de rota?': [response] * n_samples\n",
    "    }\n",
    "    return pd.DataFrame(dados_sinteticos)  # Retornando um DataFrame com os dados gerados\n",
    "\n"
   ]
  },
  {
   "cell_type": "markdown",
   "metadata": {},
   "source": [
    "<h4>Combinando os dados</h4>"
   ]
  },
  {
   "cell_type": "code",
   "execution_count": 4,
   "metadata": {},
   "outputs": [
    {
     "data": {
      "text/plain": [
       "(  Qual é a idade do(s) seu(s) filho(s)?  \\\n",
       " 0                           6 - 10 anos   \n",
       " 1                           6 - 10 anos   \n",
       " 2                           6 - 10 anos   \n",
       " 3                           6 - 10 anos   \n",
       " 4                          15 - 18 anos   \n",
       " \n",
       "   Qual é a distância entre sua casa e a escola?  \\\n",
       " 0                                 Menos de 1 km   \n",
       " 1                                 Menos de 1 km   \n",
       " 2                                 Menos de 1 km   \n",
       " 3                                 Menos de 1 km   \n",
       " 4                                      5 - 9 km   \n",
       " \n",
       "   Quanto tempo você leva, em média, para levar seu(s) filho(s) à escola?  \\\n",
       " 0                                    21 - 30 minutos                       \n",
       " 1                                    21 - 30 minutos                       \n",
       " 2                                 Mais de 30 minutos                       \n",
       " 3                                    10 - 20 minutos                       \n",
       " 4                                    21 - 30 minutos                       \n",
       " \n",
       "   Você possui carro próprio?  \\\n",
       " 0                        Sim   \n",
       " 1                        Sim   \n",
       " 2                        Sim   \n",
       " 3                        Não   \n",
       " 4                        Sim   \n",
       " \n",
       "   Já fez uso do serviço de um transporte escolar para o(s) seu(s) filho(s)?  \\\n",
       " 0                                     Já e ainda uso                          \n",
       " 1                                     Já e ainda uso                          \n",
       " 2                               Já, mas não uso mais                          \n",
       " 3                                     Já e ainda uso                          \n",
       " 4                                     Já e ainda uso                          \n",
       " \n",
       "   Você já teve problemas com transporte escolar?  \\\n",
       " 0                                            Não   \n",
       " 1                                            Não   \n",
       " 2                                            Sim   \n",
       " 3                                            Não   \n",
       " 4                                            Não   \n",
       " \n",
       "   Você estaria disposto a mudar o transporte do seu(s) filho(s) para uma van escolar que oferecesse mais segurança e eficiência?  \\\n",
       " 0                                                Sim                                                                               \n",
       " 1                                                Não                                                                               \n",
       " 2                                                Sim                                                                               \n",
       " 3                                                Não                                                                               \n",
       " 4                                                Não                                                                               \n",
       " \n",
       "   Você tem ou já teve dificuldade para encontrar transporte escolar para o seu(s) filho(s)?  \\\n",
       " 0                                                Não                                          \n",
       " 1                                                Sim                                          \n",
       " 2                                                Sim                                          \n",
       " 3                                                Sim                                          \n",
       " 4                                                Não                                          \n",
       " \n",
       "   Você já teve problemas com horário e comunicação com o transportador?  \\\n",
       " 0                                                Não                      \n",
       " 1                                           As vezes                      \n",
       " 2                                           As vezes                      \n",
       " 3                                                Sim                      \n",
       " 4                                                Não                      \n",
       " \n",
       "   Você preferiria um serviço de transporte escolar que avise automaticamente sobre atrasos e mudanças de rota?  \n",
       " 0                                                Sim                                                            \n",
       " 1                                                Sim                                                            \n",
       " 2                                                Sim                                                            \n",
       " 3                                                Sim                                                            \n",
       " 4                                                Sim                                                            ,\n",
       " Você preferiria um serviço de transporte escolar que avise automaticamente sobre atrasos e mudanças de rota?\n",
       " Sim    150\n",
       " Não    150\n",
       " Name: count, dtype: int64)"
      ]
     },
     "execution_count": 4,
     "metadata": {},
     "output_type": "execute_result"
    }
   ],
   "source": [
    "# Gerando dados sintéticos para as respostas \"Sim\" e \"Não\"\n",
    "dados_sinteticos_sim = generando_dados_sinteticos(num_samples, 'Sim')\n",
    "dados_sinteticos_nao = generando_dados_sinteticos(num_samples, 'Não')\n",
    "\n",
    "# Combinando os conjuntos de dados\n",
    "dados_sinteticos_expandidos = pd.concat([dados_sinteticos_sim, dados_sinteticos_nao], ignore_index=True)\n",
    "\n",
    "# Exibindo as primeiras linhas do dataset e contando as ocorrências de cada resposta para a pergunta final\n",
    "dados_sinteticos_expandidos.head(), dados_sinteticos_expandidos['Você preferiria um serviço de transporte escolar que avise automaticamente sobre atrasos e mudanças de rota?'].value_counts()"
   ]
  },
  {
   "cell_type": "markdown",
   "metadata": {},
   "source": [
    "<h4>Salvando nova base</h4>"
   ]
  },
  {
   "cell_type": "code",
   "execution_count": 7,
   "metadata": {},
   "outputs": [
    {
     "data": {
      "text/plain": [
       "'pesquisa_responsaveis_expandida.xlsx'"
      ]
     },
     "execution_count": 7,
     "metadata": {},
     "output_type": "execute_result"
    }
   ],
   "source": [
    "# Salvando o conjunto de dados expandido em um arquivo Excel\n",
    "base_expandida = 'pesquisa_responsaveis_expandida.xlsx'\n",
    "dados_sinteticos_expandidos.to_excel(base_expandida, index=False)\n",
    "\n",
    "base_expandida  # Exibindo o nome do arquivo salvo"
   ]
  }
 ],
 "metadata": {
  "kernelspec": {
   "display_name": "base",
   "language": "python",
   "name": "python3"
  },
  "language_info": {
   "codemirror_mode": {
    "name": "ipython",
    "version": 3
   },
   "file_extension": ".py",
   "mimetype": "text/x-python",
   "name": "python",
   "nbconvert_exporter": "python",
   "pygments_lexer": "ipython3",
   "version": "3.11.4"
  }
 },
 "nbformat": 4,
 "nbformat_minor": 2
}
