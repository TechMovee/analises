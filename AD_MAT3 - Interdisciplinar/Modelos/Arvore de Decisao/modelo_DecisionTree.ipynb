{
 "cells": [
  {
   "cell_type": "markdown",
   "metadata": {},
   "source": [
    "<h3><center>Árvore de Decisão 🌳</center></h3>"
   ]
  },
  {
   "cell_type": "markdown",
   "metadata": {},
   "source": [
    "<h5>Grupo: TechMovee</h5>\n",
    "<h5>Modelo: DecisionTree</h5>\n",
    "<h5>Autor: Melissa Martins de Araujo - 2°G - n°14</h5>"
   ]
  },
  {
   "cell_type": "markdown",
   "metadata": {},
   "source": [
    "<h4>Importações</h4>"
   ]
  },
  {
   "cell_type": "code",
   "execution_count": 2019,
   "metadata": {},
   "outputs": [],
   "source": [
    "import pandas as pd\n",
    "import pickle\n",
    "from sklearn.model_selection import train_test_split, GridSearchCV, cross_val_score\n",
    "from sklearn.preprocessing import OrdinalEncoder, StandardScaler\n",
    "from sklearn.compose import ColumnTransformer, make_column_selector\n",
    "from sklearn.metrics import confusion_matrix, accuracy_score, f1_score, precision_score, classification_report\n",
    "from sklearn.tree import DecisionTreeClassifier\n",
    "from sklearn.pipeline import Pipeline\n",
    "from imblearn.over_sampling import SMOTE\n",
    "import matplotlib.pyplot as plt\n",
    "import seaborn as sns"
   ]
  },
  {
   "cell_type": "markdown",
   "metadata": {},
   "source": [
    "<h4>Lendo a Base</h4>"
   ]
  },
  {
   "cell_type": "code",
   "execution_count": 2020,
   "metadata": {},
   "outputs": [
    {
     "data": {
      "text/html": [
       "<div>\n",
       "<style scoped>\n",
       "    .dataframe tbody tr th:only-of-type {\n",
       "        vertical-align: middle;\n",
       "    }\n",
       "\n",
       "    .dataframe tbody tr th {\n",
       "        vertical-align: top;\n",
       "    }\n",
       "\n",
       "    .dataframe thead th {\n",
       "        text-align: right;\n",
       "    }\n",
       "</style>\n",
       "<table border=\"1\" class=\"dataframe\">\n",
       "  <thead>\n",
       "    <tr style=\"text-align: right;\">\n",
       "      <th></th>\n",
       "      <th>Qual é a idade do(s) seu(s) filho(s)?</th>\n",
       "      <th>Qual é a distância entre sua casa e a escola?</th>\n",
       "      <th>Quanto tempo você leva, em média, para levar seu(s) filho(s) à escola?</th>\n",
       "      <th>Você possui carro próprio?</th>\n",
       "      <th>Já fez uso do serviço de um transporte escolar para o(s) seu(s) filho(s)?</th>\n",
       "      <th>Você já teve problemas com transporte escolar?</th>\n",
       "      <th>Você estaria disposto a mudar o transporte do seu(s) filho(s) para uma van escolar que oferecesse mais segurança e eficiência?</th>\n",
       "      <th>Você tem ou já teve dificuldade para encontrar transporte escolar para o seu(s) filho(s)?</th>\n",
       "      <th>Você já teve problemas com horário e comunicação com o transportador?</th>\n",
       "      <th>Você preferiria um serviço de transporte escolar que avise automaticamente sobre atrasos e mudanças de rota?</th>\n",
       "    </tr>\n",
       "  </thead>\n",
       "  <tbody>\n",
       "    <tr>\n",
       "      <th>0</th>\n",
       "      <td>6 - 10 anos</td>\n",
       "      <td>Menos de 1 km</td>\n",
       "      <td>21 - 30 minutos</td>\n",
       "      <td>Sim</td>\n",
       "      <td>Já e ainda uso</td>\n",
       "      <td>Não</td>\n",
       "      <td>Sim</td>\n",
       "      <td>Não</td>\n",
       "      <td>Não</td>\n",
       "      <td>Sim</td>\n",
       "    </tr>\n",
       "    <tr>\n",
       "      <th>1</th>\n",
       "      <td>6 - 10 anos</td>\n",
       "      <td>Menos de 1 km</td>\n",
       "      <td>21 - 30 minutos</td>\n",
       "      <td>Sim</td>\n",
       "      <td>Já e ainda uso</td>\n",
       "      <td>Não</td>\n",
       "      <td>Não</td>\n",
       "      <td>Sim</td>\n",
       "      <td>As vezes</td>\n",
       "      <td>Sim</td>\n",
       "    </tr>\n",
       "    <tr>\n",
       "      <th>2</th>\n",
       "      <td>6 - 10 anos</td>\n",
       "      <td>Menos de 1 km</td>\n",
       "      <td>Mais de 30 minutos</td>\n",
       "      <td>Sim</td>\n",
       "      <td>Já, mas não uso mais</td>\n",
       "      <td>Sim</td>\n",
       "      <td>Sim</td>\n",
       "      <td>Sim</td>\n",
       "      <td>As vezes</td>\n",
       "      <td>Sim</td>\n",
       "    </tr>\n",
       "    <tr>\n",
       "      <th>3</th>\n",
       "      <td>6 - 10 anos</td>\n",
       "      <td>Menos de 1 km</td>\n",
       "      <td>10 - 20 minutos</td>\n",
       "      <td>Não</td>\n",
       "      <td>Já e ainda uso</td>\n",
       "      <td>Não</td>\n",
       "      <td>Não</td>\n",
       "      <td>Sim</td>\n",
       "      <td>Sim</td>\n",
       "      <td>Sim</td>\n",
       "    </tr>\n",
       "    <tr>\n",
       "      <th>4</th>\n",
       "      <td>15 - 18 anos</td>\n",
       "      <td>5 - 9 km</td>\n",
       "      <td>21 - 30 minutos</td>\n",
       "      <td>Sim</td>\n",
       "      <td>Já e ainda uso</td>\n",
       "      <td>Não</td>\n",
       "      <td>Não</td>\n",
       "      <td>Não</td>\n",
       "      <td>Não</td>\n",
       "      <td>Sim</td>\n",
       "    </tr>\n",
       "  </tbody>\n",
       "</table>\n",
       "</div>"
      ],
      "text/plain": [
       "  Qual é a idade do(s) seu(s) filho(s)?  \\\n",
       "0                           6 - 10 anos   \n",
       "1                           6 - 10 anos   \n",
       "2                           6 - 10 anos   \n",
       "3                           6 - 10 anos   \n",
       "4                          15 - 18 anos   \n",
       "\n",
       "  Qual é a distância entre sua casa e a escola?  \\\n",
       "0                                 Menos de 1 km   \n",
       "1                                 Menos de 1 km   \n",
       "2                                 Menos de 1 km   \n",
       "3                                 Menos de 1 km   \n",
       "4                                      5 - 9 km   \n",
       "\n",
       "  Quanto tempo você leva, em média, para levar seu(s) filho(s) à escola?  \\\n",
       "0                                    21 - 30 minutos                       \n",
       "1                                    21 - 30 minutos                       \n",
       "2                                 Mais de 30 minutos                       \n",
       "3                                    10 - 20 minutos                       \n",
       "4                                    21 - 30 minutos                       \n",
       "\n",
       "  Você possui carro próprio?  \\\n",
       "0                        Sim   \n",
       "1                        Sim   \n",
       "2                        Sim   \n",
       "3                        Não   \n",
       "4                        Sim   \n",
       "\n",
       "  Já fez uso do serviço de um transporte escolar para o(s) seu(s) filho(s)?  \\\n",
       "0                                     Já e ainda uso                          \n",
       "1                                     Já e ainda uso                          \n",
       "2                               Já, mas não uso mais                          \n",
       "3                                     Já e ainda uso                          \n",
       "4                                     Já e ainda uso                          \n",
       "\n",
       "  Você já teve problemas com transporte escolar?  \\\n",
       "0                                            Não   \n",
       "1                                            Não   \n",
       "2                                            Sim   \n",
       "3                                            Não   \n",
       "4                                            Não   \n",
       "\n",
       "  Você estaria disposto a mudar o transporte do seu(s) filho(s) para uma van escolar que oferecesse mais segurança e eficiência?  \\\n",
       "0                                                Sim                                                                               \n",
       "1                                                Não                                                                               \n",
       "2                                                Sim                                                                               \n",
       "3                                                Não                                                                               \n",
       "4                                                Não                                                                               \n",
       "\n",
       "  Você tem ou já teve dificuldade para encontrar transporte escolar para o seu(s) filho(s)?  \\\n",
       "0                                                Não                                          \n",
       "1                                                Sim                                          \n",
       "2                                                Sim                                          \n",
       "3                                                Sim                                          \n",
       "4                                                Não                                          \n",
       "\n",
       "  Você já teve problemas com horário e comunicação com o transportador?  \\\n",
       "0                                                Não                      \n",
       "1                                           As vezes                      \n",
       "2                                           As vezes                      \n",
       "3                                                Sim                      \n",
       "4                                                Não                      \n",
       "\n",
       "  Você preferiria um serviço de transporte escolar que avise automaticamente sobre atrasos e mudanças de rota?  \n",
       "0                                                Sim                                                            \n",
       "1                                                Sim                                                            \n",
       "2                                                Sim                                                            \n",
       "3                                                Sim                                                            \n",
       "4                                                Sim                                                            "
      ]
     },
     "execution_count": 2020,
     "metadata": {},
     "output_type": "execute_result"
    }
   ],
   "source": [
    "# Carregando os dados de um arquivo Excel\n",
    "data = pd.read_excel('C:\\\\Users\\\\melissamartins-ieg\\\\OneDrive - Instituto Germinare\\\\Interdisciplinar\\\\AD_MAT3 - Interdisciplinar\\\\ExpansaoDados\\\\pesquisa_responsaveis_expandida.xlsx')\n",
    "data.head()"
   ]
  },
  {
   "cell_type": "markdown",
   "metadata": {},
   "source": [
    "<h4>Separando em Atributo e Resposta</h4>"
   ]
  },
  {
   "cell_type": "code",
   "execution_count": 2021,
   "metadata": {},
   "outputs": [],
   "source": [
    "# Separando as variáveis independentes e dependentes\n",
    "X = data.drop(columns=['Você preferiria um serviço de transporte escolar que avise automaticamente sobre atrasos e mudanças de rota?','Qual é a idade do(s) seu(s) filho(s)?','Você possui carro próprio?','Você tem ou já teve dificuldade para encontrar transporte escolar para o seu(s) filho(s)?'])\n",
    "y = data['Você preferiria um serviço de transporte escolar que avise automaticamente sobre atrasos e mudanças de rota?']\n"
   ]
  },
  {
   "cell_type": "markdown",
   "metadata": {},
   "source": [
    "<h4>Criando Pré-processador</h4>"
   ]
  },
  {
   "cell_type": "code",
   "execution_count": 2022,
   "metadata": {},
   "outputs": [],
   "source": [
    "# Definindo o ColumnTransformer\n",
    "preprocessador = ColumnTransformer(\n",
    "    transformers=[\n",
    "        ('categoricas', OrdinalEncoder(), make_column_selector(dtype_include=object)),\n",
    "        ('numericas', StandardScaler(), make_column_selector(dtype_include=['float64', 'int64']))  # Ajuste aqui para suas colunas numéricas\n",
    "    ],\n",
    "    remainder='passthrough'\n",
    ")\n",
    "\n",
    "X_pre = preprocessador.fit_transform(X) # Aplicando o Label Enconding"
   ]
  },
  {
   "cell_type": "code",
   "execution_count": 2023,
   "metadata": {},
   "outputs": [],
   "source": [
    "# Convertendo a matriz transformada de volta para DataFrame\n",
    "X = pd.DataFrame(X_pre, columns = X.columns)"
   ]
  },
  {
   "cell_type": "markdown",
   "metadata": {},
   "source": [
    "<h4>Iniciando o Classificador</h4>"
   ]
  },
  {
   "cell_type": "code",
   "execution_count": 2024,
   "metadata": {},
   "outputs": [],
   "source": [
    "# Criando o classificador de árvore de decisão\n",
    "classificador_arvore = DecisionTreeClassifier()"
   ]
  },
  {
   "cell_type": "markdown",
   "metadata": {},
   "source": [
    "<h4>Criando a pipeline com os processos</h4>"
   ]
  },
  {
   "cell_type": "code",
   "execution_count": 2025,
   "metadata": {},
   "outputs": [],
   "source": [
    "# Criando o pipeline\n",
    "modelo_pipeline = Pipeline(steps=[\n",
    "    ('preprocessador', preprocessador),\n",
    "    ('classificador', classificador_arvore)\n",
    "])"
   ]
  },
  {
   "cell_type": "markdown",
   "metadata": {},
   "source": [
    "<h4>Separação Treino e Teste</h4>"
   ]
  },
  {
   "cell_type": "code",
   "execution_count": 2026,
   "metadata": {},
   "outputs": [
    {
     "name": "stdout",
     "output_type": "stream",
     "text": [
      "Linhas de treino: 225\n",
      "Linhas de teste: 75\n"
     ]
    }
   ],
   "source": [
    "# Dividindo os dados em conjuntos de treino e teste com um random_state fixo\n",
    "X_treino, X_teste, y_treino, y_teste = train_test_split(X, y, random_state=42)\n",
    "\n",
    "print(f'Linhas de treino: {X_treino.shape[0]}\\nLinhas de teste: {X_teste.shape[0]}')"
   ]
  },
  {
   "cell_type": "markdown",
   "metadata": {},
   "source": [
    "<h4>SMOTE</h4>"
   ]
  },
  {
   "cell_type": "code",
   "execution_count": 2027,
   "metadata": {},
   "outputs": [],
   "source": [
    "# Aplicando o SMOTE manualmente no conjunto de treino\n",
    "smote = SMOTE(random_state=42)\n",
    "X_treino, y_treino = smote.fit_resample(X_treino, y_treino)"
   ]
  },
  {
   "cell_type": "markdown",
   "metadata": {},
   "source": [
    "<h4>GridSearchCV</h4>"
   ]
  },
  {
   "cell_type": "code",
   "execution_count": 2028,
   "metadata": {},
   "outputs": [],
   "source": [
    "# Definindo os parâmetros para o GridSearchCV\n",
    "parametros = {\n",
    "    'classificador__criterion': ['gini', 'entropy'],\n",
    "    'classificador__splitter': ['best', 'random'],\n",
    "    'classificador__max_depth': [None, 2, 4, 6, 8, 10, 12],\n",
    "    'classificador__min_samples_split': [2, 5, 10],\n",
    "    'classificador__max_features': [None, 'sqrt', 'log2'],\n",
    "    'classificador__min_samples_leaf': [1, 2, 5, 10]\n",
    "}\n",
    "\n",
    "# Criando o GridSearchCV\n",
    "grid_search = GridSearchCV(estimator=modelo_pipeline, param_grid=parametros, scoring='accuracy', cv=5)"
   ]
  },
  {
   "cell_type": "markdown",
   "metadata": {},
   "source": [
    "<h4>Criando e Testando o Modelo</h4>"
   ]
  },
  {
   "cell_type": "code",
   "execution_count": 2031,
   "metadata": {},
   "outputs": [],
   "source": [
    "# Treinando o modelo com o GridSearchCV\n",
    "grid_search.fit(X_treino, y_treino)\n",
    "\n",
    "# Obtendo o melhor modelo\n",
    "melhor_modelo = grid_search.best_estimator_"
   ]
  },
  {
   "cell_type": "code",
   "execution_count": 2032,
   "metadata": {},
   "outputs": [],
   "source": [
    "# Fazendo previsões com o conjunto de teste\n",
    "y_pred = melhor_modelo.predict(X_teste)"
   ]
  },
  {
   "cell_type": "markdown",
   "metadata": {},
   "source": [
    "<h3><center>Métricas</center></h3>"
   ]
  },
  {
   "cell_type": "code",
   "execution_count": 2033,
   "metadata": {},
   "outputs": [
    {
     "name": "stdout",
     "output_type": "stream",
     "text": [
      "Métricas de avaliação no conjunto de teste:\n",
      "Acurácia: 57.33%\n",
      "F1-Score: 57.1%\n",
      "Precisão: 57.62%\n",
      "              precision    recall  f1-score   support\n",
      "\n",
      "         Não       0.59      0.50      0.54        38\n",
      "         Sim       0.56      0.65      0.60        37\n",
      "\n",
      "    accuracy                           0.57        75\n",
      "   macro avg       0.58      0.57      0.57        75\n",
      "weighted avg       0.58      0.57      0.57        75\n",
      "\n",
      "\n"
     ]
    }
   ],
   "source": [
    "# Avaliação do modelo\n",
    "print(\"Métricas de avaliação no conjunto de teste:\")\n",
    "print(f'Acurácia: {round((accuracy_score(y_teste, y_pred) * 100), 2)}%')\n",
    "print(f'F1-Score: {round((f1_score(y_teste, y_pred, average=\"weighted\") * 100), 2)}%')\n",
    "print(f'Precisão: {round((precision_score(y_teste, y_pred, average=\"weighted\") * 100), 2)}%')\n",
    "print(f'{classification_report(y_teste, y_pred)}\\n')"
   ]
  },
  {
   "cell_type": "code",
   "execution_count": 2034,
   "metadata": {},
   "outputs": [],
   "source": [
    "class_names = y.unique()"
   ]
  },
  {
   "cell_type": "markdown",
   "metadata": {},
   "source": [
    "<h4>Matriz de Confusão</h4>"
   ]
  },
  {
   "cell_type": "code",
   "execution_count": 2035,
   "metadata": {},
   "outputs": [
    {
     "data": {
      "image/png": "[encoded data removed]",
      "text/plain": [
       "<Figure size 1000x700 with 2 Axes>"
      ]
     },
     "metadata": {},
     "output_type": "display_data"
    }
   ],
   "source": [
    "class_names = y.unique()\n",
    "\n",
    "plt.figure(figsize=(10, 7))\n",
    "sns.heatmap(confusion_matrix(y_teste, y_pred), annot=True, fmt='d', cmap='Blues', xticklabels=class_names, yticklabels=class_names)\n",
    "plt.xlabel('Predicted')\n",
    "plt.ylabel('True')\n",
    "plt.show()"
   ]
  },
  {
   "cell_type": "markdown",
   "metadata": {},
   "source": [
    "<h4>Serialização</h4>"
   ]
  },
  {
   "cell_type": "code",
   "execution_count": null,
   "metadata": {},
   "outputs": [],
   "source": [
    "# Serializando o modelo treinado em um arquivo\n",
    "with open('modelo_serializado.pkl', 'wb') as arquivo:\n",
    "    pickle.dump(modelo_pipeline, arquivo)"
   ]
  }
 ],
 "metadata": {
  "kernelspec": {
   "display_name": "base",
   "language": "python",
   "name": "python3"
  },
  "language_info": {
   "codemirror_mode": {
    "name": "ipython",
    "version": 3
   },
   "file_extension": ".py",
   "mimetype": "text/x-python",
   "name": "python",
   "nbconvert_exporter": "python",
   "pygments_lexer": "ipython3",
   "version": "3.11.4"
  }
 },
 "nbformat": 4,
 "nbformat_minor": 2
}
